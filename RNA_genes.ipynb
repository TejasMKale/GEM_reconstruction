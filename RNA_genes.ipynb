{
 "cells": [
  {
   "cell_type": "code",
   "execution_count": 1,
   "id": "6bee4b50",
   "metadata": {},
   "outputs": [
    {
     "name": "stdout",
     "output_type": "stream",
     "text": [
      "RNA Type: Unknown\n",
      "A: 4581344\n",
      "T: 4357960\n",
      "G: 3065293\n",
      "C: 2649685\n",
      "\n",
      "RNA Type: tRNA\n",
      "A: 250560\n",
      "T: 226984\n",
      "G: 176753\n",
      "C: 152677\n",
      "\n",
      "RNA Type: rRNA\n",
      "A: 53241\n",
      "T: 48941\n",
      "G: 35531\n",
      "C: 29642\n",
      "\n"
     ]
    }
   ],
   "source": [
    "from collections import defaultdict\n",
    "\n",
    "# Create a dictionary to store base counts for each RNA type\n",
    "rna_base_counts = defaultdict(lambda: defaultdict(int))\n",
    "\n",
    "# Open the input file\n",
    "with open(\"Downloads/test/ncbi_dataset/data/GCF_000931575.1/cds_from_genomic.fna\", \"r\") as file:\n",
    "    current_rna_type = None  # To keep track of the current RNA type\n",
    "    sequence = \"\"  # To store the current sequence\n",
    "    \n",
    "    for line in file:\n",
    "        line = line.strip()\n",
    "        if line.startswith(\">\"):\n",
    "            # Parse the header line to determine the RNA type\n",
    "            if \"rRNA\" in line:\n",
    "                current_rna_type = \"rRNA\"\n",
    "            elif \"tRNA\" in line:\n",
    "                current_rna_type = \"tRNA\"\n",
    "            elif \"mRNA\" in line:\n",
    "                current_rna_type = \"mRNA\"\n",
    "            else:\n",
    "                current_rna_type = \"Unknown\"  # If RNA type is not specified\n",
    "            \n",
    "            sequence = \"\"  # Initialize the sequence for the current RNA type\n",
    "        else:\n",
    "            # Accumulate the sequence data\n",
    "            sequence += line\n",
    "            \n",
    "            # Calculate base counts\n",
    "            for base in sequence:\n",
    "                rna_base_counts[current_rna_type][base] += 1\n",
    "\n",
    "# Print the results\n",
    "for rna_type, base_counts in rna_base_counts.items():\n",
    "    print(f\"RNA Type: {rna_type}\")\n",
    "    print(f\"A: {base_counts['A']}\")\n",
    "    print(f\"T: {base_counts['T']}\")\n",
    "    print(f\"G: {base_counts['G']}\")\n",
    "    print(f\"C: {base_counts['C']}\")\n",
    "    print()\n"
   ]
  },
  {
   "cell_type": "code",
   "execution_count": 3,
   "id": "b9514cde",
   "metadata": {},
   "outputs": [
    {
     "name": "stdout",
     "output_type": "stream",
     "text": [
      "Total A count: 8628\n",
      "Total T count: 7026\n",
      "Total G count: 9867\n",
      "Total C count: 6858\n",
      "Total bases: 32379\n"
     ]
    }
   ],
   "source": [
    "# Initialize variables to store base counts\n",
    "total_A_count = 0\n",
    "total_T_count = 0\n",
    "total_G_count = 0\n",
    "total_C_count = 0\n",
    "\n",
    "# Open the input file\n",
    "with open(\"Downloads/GCA_000931575.1_ASM93157v1_rna_from_genomic.fna/GCA_000931575.1_ASM93157v1_rna_from_genomic.fna\", \"r\") as file:\n",
    "    in_sequence = False  # To indicate whether we are in a sequence or not\n",
    "    \n",
    "    for line in file:\n",
    "        line = line.strip()\n",
    "        if line.startswith(\">\"):\n",
    "            in_sequence = False  # Start of a new header, so we are not in the sequence\n",
    "        else:\n",
    "            in_sequence = True  # We are in the sequence\n",
    "            \n",
    "            # Count bases in the sequence\n",
    "            total_A_count += line.count(\"A\")\n",
    "            total_T_count += line.count(\"T\")\n",
    "            total_G_count += line.count(\"G\")\n",
    "            total_C_count += line.count(\"C\")\n",
    "\n",
    "# Print the results\n",
    "print(f\"Total A count: {total_A_count}\")\n",
    "print(f\"Total T count: {total_T_count}\")\n",
    "print(f\"Total G count: {total_G_count}\")\n",
    "print(f\"Total C count: {total_C_count}\")\n",
    "\n",
    "# Calculate the total number of bases\n",
    "total_bases = total_A_count + total_T_count + total_G_count + total_C_count\n",
    "print(f\"Total bases: {total_bases}\")\n"
   ]
  },
  {
   "cell_type": "markdown",
   "id": "f17b2c7c",
   "metadata": {},
   "source": [
    "# Biomass Objective Function"
   ]
  },
  {
   "cell_type": "code",
   "execution_count": null,
   "id": "971c0dd9",
   "metadata": {},
   "outputs": [],
   "source": [
    "0.419109 ala_L[c] + 0.230561 arg_L[c] + 0.254642 asn_L[c] + 0.260278 asp_L[c] + 0.052260 cys_L[c] + \n",
    "0.240808 gln_L[c] + 0.335594 glu_L[c] + 0.338156 gly[c] + 0.105033 his_L[c] + 0.363262 ile_L[c] + \n",
    "0.533364 leu_L[c] + 0.325347 lys_L[c] + 0.121941 met_L[c] + 0.227487 phe_L[c] + 0.189060 pro_L[c] + \n",
    "0.301779 ser_L[c] + 0.266426 thr_L[c] + 0.058409 trp_L[c] + 0.161393 tyr_L[c] + 0.339693 val_L[c]+ \n",
    "0.034337 datp[c] + 0.021189 dctp[c] + 0.021189 dgtp[c] + 0.034337 dttp[c] + 0.158909 ctp[c] + \n",
    "0.110449 gtp[c] + 0.138955 utp[c] + 54.063155 atp[c] + 0.000223 10fthf[c] + 0.000223 2dmmql8[c] + \n",
    "0.000223 2fe2s[c] + 0.000223 4fe4s[c] + 0.000223 5mthf[c] + 0.0002791 accoa[c] +  0.000223 amet[c] +\n",
    "0.000223 bmocogdp[c] + 2e-006 btn[c] + 0.00477859 ca2[c] + 0.000223 chor[c] + 0.00477859 cl[c] +\n",
    "0.000168 coa[c] + 0.0031857 cobalt2[c] + 0.0109330 loshinf[c]  + 0.0031857 cu2[c]  + 0.000223 fad[c] +\n",
    "0.0071678 fe2[c] + 0.0071678 fe3[c]  + 0.000223 gthrd[c]  + 48.825398 h2o[c] + 0.1791974 k[c]  +\n",
    "0.000223 lipopb[c] + 0.000031266 malcoa[c] + 0.00796433 mg2[c] + 0.000223 mlthf[c] + 0.0031857 mn2[c] +\n",
    "0.0031857 mobd[c] + 0.000223 mocogdp[c] + 0.001493436 murein3p3p[p] + 0.00074362 murein3px4p[p] +0.00597374 murein4p4p[p] +\n",
    "0.006692636 murein4px4p[p] + 0.000057202 murein4px4px4p[p] + 0.0017866 nad[c] + 0.00004466 nadh[c] + 0.00011166 nadp[c] +\n",
    "0.000335 nadph[c] + 0.01194649 nh4[c] + 0.00318573 ni2[c] + 0.03945960 pe140[p] + 0.02916579 pe160[p] +\n",
    "0.0943599 pe161[p] + 0.0085781 pe180[p] + 0.0233950 pg160[p] + 0.0068808 pg180[p]  + 0.000223 pheme[c]  +\n",
    "0.0332704 ptrc[c] +0.000223 pydx5p[c] + 0.000223 ribflv[c]  + 0.0039821 so4[c] + 0.00674427 spmd[c] + \n",
    "0.00009826 succoa[c] + 0.000223 thf[c] + 0.000223 thmpp[c] + 0.000055352 udcpdp[c]  + 0.00318573 zn2[c] -> \n",
    "53.9500 adp[c] + 53.9500 h[c] + 53.9461 pi[c] + 0.6121 ppi[c]"
   ]
  },
  {
   "cell_type": "markdown",
   "id": "1856e68f",
   "metadata": {},
   "source": [
    "# hi467"
   ]
  },
  {
   "cell_type": "code",
   "execution_count": 2,
   "id": "f710bda3",
   "metadata": {},
   "outputs": [
    {
     "name": "stdout",
     "output_type": "stream",
     "text": [
      "Total A count: 2376\n",
      "Total T count: 2126\n",
      "Total G count: 2904\n",
      "Total C count: 2216\n",
      "Total bases: 9622\n"
     ]
    }
   ],
   "source": [
    "# Initialize variables to store base counts\n",
    "total_A_count = 0\n",
    "total_T_count = 0\n",
    "total_G_count = 0\n",
    "total_C_count = 0\n",
    "\n",
    "# Open the input file\n",
    "with open(\"Downloads/GCA_001975845.1_ASM197584v1_rna_from_genomic.fna/hi467_rna_from_genomic.fna\", \"r\") as file:\n",
    "    in_sequence = False  # To indicate whether we are in a sequence or not\n",
    "    \n",
    "    for line in file:\n",
    "        line = line.strip()\n",
    "        if line.startswith(\">\"):\n",
    "            in_sequence = False  # Start of a new header, so we are not in the sequence\n",
    "        else:\n",
    "            in_sequence = True  # We are in the sequence\n",
    "            \n",
    "            # Count bases in the sequence\n",
    "            total_A_count += line.count(\"A\")\n",
    "            total_T_count += line.count(\"T\")\n",
    "            total_G_count += line.count(\"G\")\n",
    "            total_C_count += line.count(\"C\")\n",
    "\n",
    "# Print the results\n",
    "print(f\"Total A count: {total_A_count}\")\n",
    "print(f\"Total T count: {total_T_count}\")\n",
    "print(f\"Total G count: {total_G_count}\")\n",
    "print(f\"Total C count: {total_C_count}\")\n",
    "\n",
    "# Calculate the total number of bases\n",
    "total_bases = total_A_count + total_T_count + total_G_count + total_C_count\n",
    "print(f\"Total bases: {total_bases}\")\n"
   ]
  },
  {
   "cell_type": "markdown",
   "id": "bd73dc9c",
   "metadata": {},
   "source": [
    "# Rdkw20"
   ]
  },
  {
   "cell_type": "code",
   "execution_count": 4,
   "id": "3d9047dd",
   "metadata": {},
   "outputs": [
    {
     "name": "stdout",
     "output_type": "stream",
     "text": [
      "Total A count: 7800\n",
      "Total T count: 6223\n",
      "Total G count: 8791\n",
      "Total C count: 5859\n",
      "Total bases: 28673\n"
     ]
    }
   ],
   "source": [
    "# Initialize variables to store base counts\n",
    "total_A_count = 0\n",
    "total_T_count = 0\n",
    "total_G_count = 0\n",
    "total_C_count = 0\n",
    "\n",
    "# Open the input file\n",
    "with open(\"Downloads/GCA_000027305.1_ASM2730v1_rna_from_genomic.fna/Rdkw20_rna_from_genomic.fna\", \"r\") as file:\n",
    "    in_sequence = False  # To indicate whether we are in a sequence or not\n",
    "    \n",
    "    for line in file:\n",
    "        line = line.strip()\n",
    "        if line.startswith(\">\"):\n",
    "            in_sequence = False  # Start of a new header, so we are not in the sequence\n",
    "        else:\n",
    "            in_sequence = True  # We are in the sequence\n",
    "            \n",
    "            # Count bases in the sequence\n",
    "            total_A_count += line.count(\"A\")\n",
    "            total_T_count += line.count(\"T\")\n",
    "            total_G_count += line.count(\"G\")\n",
    "            total_C_count += line.count(\"C\")\n",
    "\n",
    "# Print the results\n",
    "print(f\"Total A count: {total_A_count}\")\n",
    "print(f\"Total T count: {total_T_count}\")\n",
    "print(f\"Total G count: {total_G_count}\")\n",
    "print(f\"Total C count: {total_C_count}\")\n",
    "\n",
    "# Calculate the total number of bases\n",
    "total_bases = total_A_count + total_T_count + total_G_count + total_C_count\n",
    "print(f\"Total bases: {total_bases}\")\n"
   ]
  },
  {
   "cell_type": "markdown",
   "id": "15cfed46",
   "metadata": {},
   "source": [
    "# KR494"
   ]
  },
  {
   "cell_type": "code",
   "execution_count": 5,
   "id": "8755ab5f",
   "metadata": {},
   "outputs": [
    {
     "name": "stdout",
     "output_type": "stream",
     "text": [
      "Total A count: 8508\n",
      "Total T count: 6931\n",
      "Total G count: 9825\n",
      "Total C count: 6745\n",
      "Total bases: 32009\n"
     ]
    }
   ],
   "source": [
    "# Initialize variables to store base counts\n",
    "total_A_count = 0\n",
    "total_T_count = 0\n",
    "total_G_count = 0\n",
    "total_C_count = 0\n",
    "\n",
    "# Open the input file\n",
    "with open(\"Downloads/GCA_000465255.1_ASM46525v1_rna_from_genomic.fna/KR494_rna_from_genomic.fna\", \"r\") as file:\n",
    "    in_sequence = False  # To indicate whether we are in a sequence or not\n",
    "    \n",
    "    for line in file:\n",
    "        line = line.strip()\n",
    "        if line.startswith(\">\"):\n",
    "            in_sequence = False  # Start of a new header, so we are not in the sequence\n",
    "        else:\n",
    "            in_sequence = True  # We are in the sequence\n",
    "            \n",
    "            # Count bases in the sequence\n",
    "            total_A_count += line.count(\"A\")\n",
    "            total_T_count += line.count(\"T\")\n",
    "            total_G_count += line.count(\"G\")\n",
    "            total_C_count += line.count(\"C\")\n",
    "\n",
    "# Print the results\n",
    "print(f\"Total A count: {total_A_count}\")\n",
    "print(f\"Total T count: {total_T_count}\")\n",
    "print(f\"Total G count: {total_G_count}\")\n",
    "print(f\"Total C count: {total_C_count}\")\n",
    "\n",
    "# Calculate the total number of bases\n",
    "total_bases = total_A_count + total_T_count + total_G_count + total_C_count\n",
    "print(f\"Total bases: {total_bases}\")\n"
   ]
  },
  {
   "cell_type": "markdown",
   "id": "f2a19ffa",
   "metadata": {},
   "source": [
    "# M12125"
   ]
  },
  {
   "cell_type": "code",
   "execution_count": 7,
   "id": "8d2a5ffb",
   "metadata": {},
   "outputs": [
    {
     "name": "stdout",
     "output_type": "stream",
     "text": [
      "Total A count: 9080\n",
      "Total T count: 7382\n",
      "Total G count: 10333\n",
      "Total C count: 7195\n",
      "Total bases: 33990\n"
     ]
    }
   ],
   "source": [
    "# Initialize variables to store base counts\n",
    "total_A_count = 0\n",
    "total_T_count = 0\n",
    "total_G_count = 0\n",
    "total_C_count = 0\n",
    "\n",
    "# Open the input file\n",
    "with open(\"Downloads/GCF_003351605.1_ASM335160v1_rna_from_genomic.fna/M12125_rna_from_genomic.fna\", \"r\") as file:\n",
    "    in_sequence = False  # To indicate whether we are in a sequence or not\n",
    "    \n",
    "    for line in file:\n",
    "        line = line.strip()\n",
    "        if line.startswith(\">\"):\n",
    "            in_sequence = False  # Start of a new header, so we are not in the sequence\n",
    "        else:\n",
    "            in_sequence = True  # We are in the sequence\n",
    "            \n",
    "            # Count bases in the sequence\n",
    "            total_A_count += line.count(\"A\")\n",
    "            total_T_count += line.count(\"T\")\n",
    "            total_G_count += line.count(\"G\")\n",
    "            total_C_count += line.count(\"C\")\n",
    "\n",
    "# Print the results\n",
    "print(f\"Total A count: {total_A_count}\")\n",
    "print(f\"Total T count: {total_T_count}\")\n",
    "print(f\"Total G count: {total_G_count}\")\n",
    "print(f\"Total C count: {total_C_count}\")\n",
    "\n",
    "# Calculate the total number of bases\n",
    "total_bases = total_A_count + total_T_count + total_G_count + total_C_count\n",
    "print(f\"Total bases: {total_bases}\")\n"
   ]
  },
  {
   "cell_type": "markdown",
   "id": "16a241f0",
   "metadata": {},
   "source": [
    "# 10211"
   ]
  },
  {
   "cell_type": "code",
   "execution_count": 6,
   "id": "44b48f83",
   "metadata": {},
   "outputs": [
    {
     "name": "stdout",
     "output_type": "stream",
     "text": [
      "Total A count: 2524\n",
      "Total T count: 2251\n",
      "Total G count: 3085\n",
      "Total C count: 2371\n",
      "Total bases: 10231\n"
     ]
    }
   ],
   "source": [
    "# Initialize variables to store base counts\n",
    "total_A_count = 0\n",
    "total_T_count = 0\n",
    "total_G_count = 0\n",
    "total_C_count = 0\n",
    "\n",
    "# Open the input file\n",
    "with open(\"Downloads/GCA_001997355.1_ASM199735v1_rna_from_genomic.fna/10211_rna_from_genomic.fna\", \"r\") as file:\n",
    "    in_sequence = False  # To indicate whether we are in a sequence or not\n",
    "    \n",
    "    for line in file:\n",
    "        line = line.strip()\n",
    "        if line.startswith(\">\"):\n",
    "            in_sequence = False  # Start of a new header, so we are not in the sequence\n",
    "        else:\n",
    "            in_sequence = True  # We are in the sequence\n",
    "            \n",
    "            # Count bases in the sequence\n",
    "            total_A_count += line.count(\"A\")\n",
    "            total_T_count += line.count(\"T\")\n",
    "            total_G_count += line.count(\"G\")\n",
    "            total_C_count += line.count(\"C\")\n",
    "\n",
    "# Print the results\n",
    "print(f\"Total A count: {total_A_count}\")\n",
    "print(f\"Total T count: {total_T_count}\")\n",
    "print(f\"Total G count: {total_G_count}\")\n",
    "print(f\"Total C count: {total_C_count}\")\n",
    "\n",
    "# Calculate the total number of bases\n",
    "total_bases = total_A_count + total_T_count + total_G_count + total_C_count\n",
    "print(f\"Total bases: {total_bases}\")\n"
   ]
  },
  {
   "cell_type": "code",
   "execution_count": null,
   "id": "dfea06f9",
   "metadata": {},
   "outputs": [],
   "source": []
  }
 ],
 "metadata": {
  "kernelspec": {
   "display_name": "Python 3 (ipykernel)",
   "language": "python",
   "name": "python3"
  },
  "language_info": {
   "codemirror_mode": {
    "name": "ipython",
    "version": 3
   },
   "file_extension": ".py",
   "mimetype": "text/x-python",
   "name": "python",
   "nbconvert_exporter": "python",
   "pygments_lexer": "ipython3",
   "version": "3.9.17"
  }
 },
 "nbformat": 4,
 "nbformat_minor": 5
}
